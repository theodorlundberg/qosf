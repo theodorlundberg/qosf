{
 "cells": [
  {
   "cell_type": "markdown",
   "metadata": {},
   "source": [
    "# A simple quantum circuit compiler"
   ]
  },
  {
   "cell_type": "markdown",
   "metadata": {},
   "source": [
    "by Theodor Lundberg\n",
    "\n",
    "While one may construct quantum circuits with a range of gates, the hardware of a quantum processor will often limit which gates can be implemented--this subset of gates is called the natural gate set of the quantum processor. When feeding a quantum circuit to a certain type of hardware, it must therefore first be compiled such that the it only contains gates belonging to natural gate set. In this notebook, I introduce a very basic compiler which is capable of taking a qiskit.QuantumCircuit constituted by arbitrary simple 1- and 2-qubit gates and compiling it to a QuantumCircuit with only the CZ, RX and RZ gates.\n",
    "\n",
    "We start by importing the relevant modules."
   ]
  },
  {
   "cell_type": "code",
   "execution_count": 1,
   "metadata": {},
   "outputs": [],
   "source": [
    "import numpy as np\n",
    "from math import pi\n",
    "from qiskit import QuantumCircuit, QuantumRegister, ClassicalRegister, Aer, execute\n",
    "#from qiskit.circuit.library.standard_gates import YGate, RYGate, RXGate, RZGate\n",
    "from qiskit.converters import circuit_to_dag"
   ]
  },
  {
   "cell_type": "markdown",
   "metadata": {},
   "source": [
    "# Compiler program"
   ]
  },
  {
   "cell_type": "markdown",
   "metadata": {},
   "source": [
    "### Decomposing gates to restricted gate set"
   ]
  },
  {
   "cell_type": "markdown",
   "metadata": {},
   "source": [
    "With help from Chapter 4 of Nielsen and Chuang, the simple gates I, H, X, Y, Z, RX, RY, RZ, CNOT and CZ can be decomposed into the restricted gate set composed of RX, RZ and CZ:\n",
    "* I = RX(0) = RZ(0)\n",
    "* H = RX($\\pi$/2)-RZ($\\pi$/2)-RX($\\pi$/2)\n",
    "* X = RX($\\pi$)\n",
    "* Y = RZ(-$\\pi$/2)-RX($\\pi$)-RZ($\\pi$/2)\n",
    "* Z = RZ($\\pi$)\n",
    "* RX($\\theta$) = RX($\\theta$)\n",
    "* RY($\\theta$) = RZ(-$\\pi$/2)-RX($\\theta$)-RZ($\\pi$/2)\n",
    "* RZ($\\theta$) = RZ($\\theta$)\n",
    "* CZ(control, target) = CZ(control, target)\n",
    "* CNOT(control, target) = H(target)-CZ(control, target)-H(target) = RX($\\pi$/2)-RZ($\\pi$/2)-RX($\\pi$/2)-CZ(control, target)-RX($\\pi$/2)-RZ($\\pi$/2)-RX($\\pi$/2)\n",
    "\n",
    "Based on this, we can write a simple compiler that takes a qiskit QuantumCircuit object with various simple gates and returns an equivalent circuit with gates only from the restricted gate set:"
   ]
  },
  {
   "cell_type": "code",
   "execution_count": 2,
   "metadata": {},
   "outputs": [],
   "source": [
    "def compile_to_RX_RX_CZ(circ):\n",
    "    '''\n",
    "    args\n",
    "    ----\n",
    "    circ : qiskit.QuantumCircuit object containing gates from the set {I, H, X, Y, Z, RX, RY, RZ, CNOT, CZ}.\n",
    "    \n",
    "    returns\n",
    "    -------\n",
    "    comp_circ : qiskit.QuantumCircuit object containing gates from the set {RX, RZ, CZ}.\n",
    "    '''\n",
    "    # initialise the circuit for the compiled version of the input circuit\n",
    "    comp_circ = QuantumCircuit(circ.qregs[0],circ.cregs[0])\n",
    "    \n",
    "    # loop through the gates in the circuit\n",
    "    for gate in circ:\n",
    "        name = gate[0].name\n",
    "        qubits = gate[1]\n",
    "        clbits = gate[2]\n",
    "        params = gate[0].params\n",
    "        \n",
    "        \n",
    "        # decompose gates and add to compilation circuit\n",
    "        if name == 'cz':\n",
    "            comp_circ.cz(qubits[0],qubits[1])\n",
    "        \n",
    "        elif name == 'cx': #cnot\n",
    "            comp_circ.rz(pi/2,qubits[1])\n",
    "            comp_circ.rx(pi/2,qubits[1])\n",
    "            comp_circ.rz(pi/2,qubits[1])\n",
    "            comp_circ.cz(qubits[0],qubits[1])\n",
    "            comp_circ.rz(pi/2,qubits[1])\n",
    "            comp_circ.rx(pi/2,qubits[1])\n",
    "            comp_circ.rz(pi/2,qubits[1])\n",
    "            \n",
    "        elif name == 'rx':\n",
    "            comp_circ.rx(params[0],qubits)\n",
    "            \n",
    "        elif name == 'rz':\n",
    "            comp_circ.rz(params[0],qubits)\n",
    "        \n",
    "        elif name == 'ry':\n",
    "            comp_circ.rz(-pi/2,qubits)\n",
    "            comp_circ.rx(params[0],qubits)\n",
    "            comp_circ.rz(pi/2,qubits)\n",
    "            \n",
    "        elif name == 'measure':\n",
    "            comp_circ.measure(qubits,clbits)\n",
    "            \n",
    "        elif name == 'h':\n",
    "            comp_circ.rz(pi/2,qubits)\n",
    "            comp_circ.rx(pi/2,qubits)\n",
    "            comp_circ.rz(pi/2,qubits)\n",
    "        \n",
    "        elif name == 'id':\n",
    "            pass\n",
    "        \n",
    "        elif name == 'x':\n",
    "            comp_circ.rx(pi,qubits)\n",
    "            \n",
    "        elif name == 'z':\n",
    "            comp_circ.rz(pi,qubits)\n",
    "        \n",
    "        elif name == 'y':\n",
    "            comp_circ.rz(-pi/2,qubits)\n",
    "            comp_circ.rx(pi,qubits)\n",
    "            comp_circ.rz(pi/2,qubits)\n",
    "\n",
    "    return comp_circ"
   ]
  },
  {
   "cell_type": "markdown",
   "metadata": {},
   "source": [
    "# Compilation of a basic quantum circuit"
   ]
  },
  {
   "cell_type": "markdown",
   "metadata": {},
   "source": [
    "Here, we shall consider a basic example circuit containing the following gates: I, H, X, Y, Z, RX, RY, RZ, CNOT and CZ."
   ]
  },
  {
   "cell_type": "code",
   "execution_count": 3,
   "metadata": {},
   "outputs": [
    {
     "data": {
      "text/html": [
       "<pre style=\"word-wrap: normal;white-space: pre;background: #fff0;line-height: 1.1;font-family: &quot;Courier New&quot;,Courier,monospace\">     ┌──────────┐┌───┐   ┌───┐       ┌───┐    ┌──────────┐\n",
       "q_0: ┤ RX(pi/3) ├┤ I ├───┤ X ├───────┤ X ├────┤ RX(pi/2) ├\n",
       "     └──┬───┬───┘├───┤   └─┬─┘    ┌──┴───┴───┐└──────────┘\n",
       "q_1: ───┤ H ├────┤ Y ├─────■──────┤ RY(pi/3) ├─────■──────\n",
       "        ├───┤    ├───┤┌──────────┐└──────────┘     │      \n",
       "q_2: ───┤ H ├────┤ Z ├┤ RZ(pi/4) ├─────────────────■──────\n",
       "        └───┘    └───┘└──────────┘                        \n",
       "c: 3/═════════════════════════════════════════════════════\n",
       "                                                          </pre>"
      ],
      "text/plain": [
       "     ┌──────────┐┌───┐   ┌───┐       ┌───┐    ┌──────────┐\n",
       "q_0: ┤ RX(pi/3) ├┤ I ├───┤ X ├───────┤ X ├────┤ RX(pi/2) ├\n",
       "     └──┬───┬───┘├───┤   └─┬─┘    ┌──┴───┴───┐└──────────┘\n",
       "q_1: ───┤ H ├────┤ Y ├─────■──────┤ RY(pi/3) ├─────■──────\n",
       "        ├───┤    ├───┤┌──────────┐└──────────┘     │      \n",
       "q_2: ───┤ H ├────┤ Z ├┤ RZ(pi/4) ├─────────────────■──────\n",
       "        └───┘    └───┘└──────────┘                        \n",
       "c: 3/═════════════════════════════════════════════════════\n",
       "                                                          "
      ]
     },
     "execution_count": 3,
     "metadata": {},
     "output_type": "execute_result"
    }
   ],
   "source": [
    "q = QuantumRegister(3, 'q')\n",
    "c = ClassicalRegister(3, 'c')\n",
    "circ = QuantumCircuit(q, c)\n",
    "\n",
    "circ.rx(pi/3,0)\n",
    "circ.h(2)\n",
    "circ.h(1)\n",
    "circ.i(0)\n",
    "circ.y(1)\n",
    "circ.cnot(1,0)\n",
    "circ.x(0)\n",
    "circ.z(2)\n",
    "circ.rx(pi/2,0)\n",
    "circ.ry(pi/3,1)\n",
    "circ.rz(pi/4,2)\n",
    "circ.cz(1,2)\n",
    "circ.draw()"
   ]
  },
  {
   "cell_type": "markdown",
   "metadata": {},
   "source": [
    "Using the compilation programme, the circuit is compiled to the restricted gate set:"
   ]
  },
  {
   "cell_type": "code",
   "execution_count": 4,
   "metadata": {},
   "outputs": [
    {
     "data": {
      "text/html": [
       "<pre style=\"word-wrap: normal;white-space: pre;background: #fff0;line-height: 1.1;font-family: &quot;Courier New&quot;,Courier,monospace\">     ┌──────────┐┌──────────┐┌──────────┐ ┌──────────┐                        »\n",
       "q_0: ┤ RX(pi/3) ├┤ RZ(pi/2) ├┤ RX(pi/2) ├─┤ RZ(pi/2) ├────────────────────────»\n",
       "     ├──────────┤├──────────┤├──────────┤┌┴──────────┤ ┌────────┐ ┌──────────┐»\n",
       "q_1: ┤ RZ(pi/2) ├┤ RX(pi/2) ├┤ RZ(pi/2) ├┤ RZ(-pi/2) ├─┤ RX(pi) ├─┤ RZ(pi/2) ├»\n",
       "     ├──────────┤├──────────┤├──────────┤└─┬────────┬┘┌┴────────┴┐└──────────┘»\n",
       "q_2: ┤ RZ(pi/2) ├┤ RX(pi/2) ├┤ RZ(pi/2) ├──┤ RZ(pi) ├─┤ RZ(pi/4) ├────────────»\n",
       "     └──────────┘└──────────┘└──────────┘  └────────┘ └──────────┘            »\n",
       "c: 3/═════════════════════════════════════════════════════════════════════════»\n",
       "                                                                              »\n",
       "«         ┌──────────┐┌──────────┐┌──────────┐┌────────┐┌──────────┐\n",
       "«q_0: ─■──┤ RZ(pi/2) ├┤ RX(pi/2) ├┤ RZ(pi/2) ├┤ RX(pi) ├┤ RX(pi/2) ├\n",
       "«      │ ┌┴──────────┤├──────────┤├──────────┤└────────┘└──────────┘\n",
       "«q_1: ─■─┤ RZ(-pi/2) ├┤ RX(pi/3) ├┤ RZ(pi/2) ├────■─────────────────\n",
       "«        └───────────┘└──────────┘└──────────┘    │                 \n",
       "«q_2: ────────────────────────────────────────────■─────────────────\n",
       "«                                                                   \n",
       "«c: 3/══════════════════════════════════════════════════════════════\n",
       "«                                                                   </pre>"
      ],
      "text/plain": [
       "     ┌──────────┐┌──────────┐┌──────────┐ ┌──────────┐                        »\n",
       "q_0: ┤ RX(pi/3) ├┤ RZ(pi/2) ├┤ RX(pi/2) ├─┤ RZ(pi/2) ├────────────────────────»\n",
       "     ├──────────┤├──────────┤├──────────┤┌┴──────────┤ ┌────────┐ ┌──────────┐»\n",
       "q_1: ┤ RZ(pi/2) ├┤ RX(pi/2) ├┤ RZ(pi/2) ├┤ RZ(-pi/2) ├─┤ RX(pi) ├─┤ RZ(pi/2) ├»\n",
       "     ├──────────┤├──────────┤├──────────┤└─┬────────┬┘┌┴────────┴┐└──────────┘»\n",
       "q_2: ┤ RZ(pi/2) ├┤ RX(pi/2) ├┤ RZ(pi/2) ├──┤ RZ(pi) ├─┤ RZ(pi/4) ├────────────»\n",
       "     └──────────┘└──────────┘└──────────┘  └────────┘ └──────────┘            »\n",
       "c: 3/═════════════════════════════════════════════════════════════════════════»\n",
       "                                                                              »\n",
       "«         ┌──────────┐┌──────────┐┌──────────┐┌────────┐┌──────────┐\n",
       "«q_0: ─■──┤ RZ(pi/2) ├┤ RX(pi/2) ├┤ RZ(pi/2) ├┤ RX(pi) ├┤ RX(pi/2) ├\n",
       "«      │ ┌┴──────────┤├──────────┤├──────────┤└────────┘└──────────┘\n",
       "«q_1: ─■─┤ RZ(-pi/2) ├┤ RX(pi/3) ├┤ RZ(pi/2) ├────■─────────────────\n",
       "«        └───────────┘└──────────┘└──────────┘    │                 \n",
       "«q_2: ────────────────────────────────────────────■─────────────────\n",
       "«                                                                   \n",
       "«c: 3/══════════════════════════════════════════════════════════════\n",
       "«                                                                   "
      ]
     },
     "execution_count": 4,
     "metadata": {},
     "output_type": "execute_result"
    }
   ],
   "source": [
    "compiled_circ = compile_to_RX_RX_CZ(circ)\n",
    "compiled_circ.draw()"
   ]
  },
  {
   "cell_type": "markdown",
   "metadata": {},
   "source": [
    "# Characterisation of the compilation\n",
    "First we need to check whether the compiled circuit is equivalent to the original circuit. It is important to note that a difference in global phase between the two circuits is allowed as global phase does not affect measurement outcome. We therefore introduce a helper function that can check whether two unitary matrixes are equivalent:"
   ]
  },
  {
   "cell_type": "code",
   "execution_count": 5,
   "metadata": {},
   "outputs": [],
   "source": [
    "def dagger(M):\n",
    "    '''\n",
    "    args\n",
    "    ----\n",
    "    M : numpy matrix to be conjugated a transposed\n",
    "    \n",
    "    returns\n",
    "    -------\n",
    "    M_dag : numpy matrix; M dagger\n",
    "    '''\n",
    "    M_dag = np.conj(M).T\n",
    "    return M_dag\n",
    "\n",
    "def globalPhaseEquiv(M1, M2):\n",
    "    '''\n",
    "    args\n",
    "    ----\n",
    "    M1 : 2D numpy matrix\n",
    "    M2 : 2D numpy matrix\n",
    "    \n",
    "    returns\n",
    "    -------\n",
    "    equiv : bool indicating whether M1 and M2 are equivalent up to a global phase\n",
    "    '''\n",
    "    P = M1.dot(dagger(M2))\n",
    "    I = np.diag(np.ones(M1.shape[0]))\n",
    "    if P[0][0] == 0:\n",
    "        equiv = False\n",
    "    else: \n",
    "        equiv = np.allclose(I,P/P[0][0])\n",
    "    return equiv"
   ]
  },
  {
   "cell_type": "markdown",
   "metadata": {},
   "source": [
    "Using IBMs Aer Unitary Simulator we can obtain the unitaries that describe the original and compiled circuits and use the function globalPhaseEquiv to check if the two are equivalent:"
   ]
  },
  {
   "cell_type": "code",
   "execution_count": 6,
   "metadata": {},
   "outputs": [
    {
     "name": "stdout",
     "output_type": "stream",
     "text": [
      "True\n"
     ]
    }
   ],
   "source": [
    "backend = Aer.get_backend('unitary_simulator')\n",
    "\n",
    "sim = execute(circ, backend)\n",
    "result = sim.result()\n",
    "U_circ = result.get_unitary(circ, decimals=3)\n",
    "\n",
    "sim_compiled = execute(compiled_circ, backend)\n",
    "result_compiled = sim_compiled.result()\n",
    "U_compiled_circ = result_compiled.get_unitary(compiled_circ, decimals=3)\n",
    "\n",
    "print(globalPhaseEquiv(U_circ, U_compiled_circ))"
   ]
  },
  {
   "cell_type": "markdown",
   "metadata": {},
   "source": [
    "Fortunately the two circuits are equivalent. Now we can check the overhead that has been introduced through the compilation. While it may be relevant to factor in gate fidelity and gate operation times when calculating the overhead for a physical system, here we shall simply assume the all gates have equal fidelities and operation times. In this case, the overhead is simply given by the number of gate operations in the circuit, which for the original and compiled circuits are:"
   ]
  },
  {
   "cell_type": "code",
   "execution_count": 7,
   "metadata": {},
   "outputs": [
    {
     "name": "stdout",
     "output_type": "stream",
     "text": [
      "Number of gates in original circuit: 12\n",
      "Number of gates in compiled circuit: 25\n",
      "\n",
      " ----- COMPILATION OVERHEAD ----- \n",
      " Additional gates: 13 \n",
      " Percentage increase: 108%\n"
     ]
    }
   ],
   "source": [
    "print('Number of gates in original circuit: {0}'.format(circ.size()))\n",
    "print('Number of gates in compiled circuit: {0}'.format(compiled_circ.size()))\n",
    "print('\\n ----- COMPILATION OVERHEAD ----- \\n Additional gates: {0} \\n Percentage increase: {1}%'.format(compiled_circ.size()-circ.size(),round((compiled_circ.size()-circ.size())/circ.size()*100)))"
   ]
  },
  {
   "cell_type": "markdown",
   "metadata": {},
   "source": [
    "# Optimising the compilation"
   ]
  },
  {
   "cell_type": "markdown",
   "metadata": {},
   "source": [
    "In the compiler program above, I have not introduced any optimisation whatsoever. One straightforward step that can be taken to optimise the compiled circuit and reduce the overhead, is to combine multiple rotation gates about the same axis into one gate and to remove gates that are simply equivalent to the identity operator:"
   ]
  },
  {
   "cell_type": "code",
   "execution_count": 8,
   "metadata": {},
   "outputs": [],
   "source": [
    "def basic_optimiser(circ):\n",
    "    '''\n",
    "    args\n",
    "    ----\n",
    "    circ : qiskit.QuantumCircuit object containing gates from the set {RX, RZ, CZ}.\n",
    "    \n",
    "    returns\n",
    "    -------\n",
    "    opt_circ : qiskit.QuantumCircuit object containing gates from the set {RX, RZ, CZ}.\n",
    "    '''\n",
    "    # initialise the circuit for the compiled version of the input circuit\n",
    "    opt_circ = QuantumCircuit(circ.qregs[0],circ.cregs[0])\n",
    "    \n",
    "    # convert circuit to directed acyclic graph, such that we can step through each gate in\n",
    "    # the order they operate on the qubits\n",
    "    dag = circuit_to_dag(circ)\n",
    "    \n",
    "    # step through each gate in order of execution\n",
    "    for i, gate in enumerate(dag.topological_op_nodes()):\n",
    "        # loop initilisation\n",
    "        if i == 0: \n",
    "            prev_gate = gate\n",
    "            angle = 0\n",
    "        \n",
    "        # if cz gate, add previous rx/rz gate to circuit with aggregated angle, reset angle and then add cz\n",
    "        if gate.name == 'cz':\n",
    "            if prev_gate.name == 'rx' and not angle%(2*pi) == 0:\n",
    "                opt_circ.rx(angle,prev_gate.qargs[0])\n",
    "            elif prev_gate.name == 'rz' and not angle%(2*pi) == 0:\n",
    "                opt_circ.rz(angle,prev_gate.qargs[0])\n",
    "            angle = 0\n",
    "            opt_circ.cz(gate.qargs[0],gate.qargs[1])\n",
    "        \n",
    "        # if gate type is equal to last gate and operate on same qubit, increase aggregate angle\n",
    "        elif gate.name == prev_gate.name and gate.qargs[0] == prev_gate.qargs[0]:\n",
    "            angle += gate.op.params[0]\n",
    "        \n",
    "        # if gate type is changed and aggregate angle is not a multiple of 2pi, add rz/rx and reset angle\n",
    "        else:\n",
    "            if prev_gate.name == 'rx' and not angle%(2*pi) == 0:\n",
    "                opt_circ.rx(angle,prev_gate.qargs[0])\n",
    "            elif prev_gate.name == 'rz' and not angle%(2*pi) == 0:\n",
    "                opt_circ.rz(angle,prev_gate.qargs[0])\n",
    "            angle = gate.op.params[0]\n",
    "        \n",
    "        # redefine previous gate before next iteration of loop\n",
    "        prev_gate = gate\n",
    "    \n",
    "    # add last rotation gate to circuit if there is unused angle\n",
    "    if not angle == 0:\n",
    "        if prev_gate.name == 'rx':\n",
    "            opt_circ.rx(angle,prev_gate.qargs[0])\n",
    "        elif prev_gate.name == 'rz':\n",
    "            opt_circ.rz(angle,prev_gate.qargs[0])\n",
    "        \n",
    "    return opt_circ"
   ]
  },
  {
   "cell_type": "markdown",
   "metadata": {},
   "source": [
    "Using this optimiser we get the following circuit, which is equivalent to the original circuit and has a reduced overhead compared to the compiled, unoptimised circuit:"
   ]
  },
  {
   "cell_type": "code",
   "execution_count": 9,
   "metadata": {},
   "outputs": [
    {
     "data": {
      "text/html": [
       "<pre style=\"word-wrap: normal;white-space: pre;background: #fff0;line-height: 1.1;font-family: &quot;Courier New&quot;,Courier,monospace\">     ┌──────────┐┌──────────┐ ┌──────────┐┌──────────┐    ┌──────────┐»\n",
       "q_0: ┤ RX(pi/3) ├┤ RZ(pi/2) ├─┤ RX(pi/2) ├┤ RZ(pi/2) ├─■──┤ RZ(pi/2) ├»\n",
       "     ├──────────┤├──────────┤ └┬────────┬┘├──────────┤ │ ┌┴──────────┤»\n",
       "q_1: ┤ RZ(pi/2) ├┤ RX(pi/2) ├──┤ RX(pi) ├─┤ RZ(pi/2) ├─■─┤ RZ(-pi/2) ├»\n",
       "     ├──────────┤├──────────┤┌─┴────────┴┐└──────────┘   └───────────┘»\n",
       "q_2: ┤ RZ(pi/2) ├┤ RX(pi/2) ├┤ RZ(7pi/4) ├────────────────────────────»\n",
       "     └──────────┘└──────────┘└───────────┘                            »\n",
       "c: 3/═════════════════════════════════════════════════════════════════»\n",
       "                                                                      »\n",
       "«     ┌──────────┐┌──────────┐┌───────────┐\n",
       "«q_0: ┤ RX(pi/2) ├┤ RZ(pi/2) ├┤ RX(3pi/2) ├\n",
       "«     ├──────────┤├──────────┤└───────────┘\n",
       "«q_1: ┤ RX(pi/3) ├┤ RZ(pi/2) ├──────■──────\n",
       "«     └──────────┘└──────────┘      │      \n",
       "«q_2: ──────────────────────────────■──────\n",
       "«                                          \n",
       "«c: 3/═════════════════════════════════════\n",
       "«                                          </pre>"
      ],
      "text/plain": [
       "     ┌──────────┐┌──────────┐ ┌──────────┐┌──────────┐    ┌──────────┐»\n",
       "q_0: ┤ RX(pi/3) ├┤ RZ(pi/2) ├─┤ RX(pi/2) ├┤ RZ(pi/2) ├─■──┤ RZ(pi/2) ├»\n",
       "     ├──────────┤├──────────┤ └┬────────┬┘├──────────┤ │ ┌┴──────────┤»\n",
       "q_1: ┤ RZ(pi/2) ├┤ RX(pi/2) ├──┤ RX(pi) ├─┤ RZ(pi/2) ├─■─┤ RZ(-pi/2) ├»\n",
       "     ├──────────┤├──────────┤┌─┴────────┴┐└──────────┘   └───────────┘»\n",
       "q_2: ┤ RZ(pi/2) ├┤ RX(pi/2) ├┤ RZ(7pi/4) ├────────────────────────────»\n",
       "     └──────────┘└──────────┘└───────────┘                            »\n",
       "c: 3/═════════════════════════════════════════════════════════════════»\n",
       "                                                                      »\n",
       "«     ┌──────────┐┌──────────┐┌───────────┐\n",
       "«q_0: ┤ RX(pi/2) ├┤ RZ(pi/2) ├┤ RX(3pi/2) ├\n",
       "«     ├──────────┤├──────────┤└───────────┘\n",
       "«q_1: ┤ RX(pi/3) ├┤ RZ(pi/2) ├──────■──────\n",
       "«     └──────────┘└──────────┘      │      \n",
       "«q_2: ──────────────────────────────■──────\n",
       "«                                          \n",
       "«c: 3/═════════════════════════════════════\n",
       "«                                          "
      ]
     },
     "execution_count": 9,
     "metadata": {},
     "output_type": "execute_result"
    }
   ],
   "source": [
    "opt_circ = basic_optimiser(compiled_circ)\n",
    "opt_circ.draw()"
   ]
  },
  {
   "cell_type": "code",
   "execution_count": 10,
   "metadata": {},
   "outputs": [
    {
     "name": "stdout",
     "output_type": "stream",
     "text": [
      "True\n"
     ]
    }
   ],
   "source": [
    "sim_opt = execute(opt_circ, backend)\n",
    "result_opt = sim_opt.result()\n",
    "U_opt_circ = result_opt.get_unitary(opt_circ, decimals=3)\n",
    "\n",
    "print(globalPhaseEquiv(U_circ, U_opt_circ))"
   ]
  },
  {
   "cell_type": "code",
   "execution_count": 11,
   "metadata": {},
   "outputs": [
    {
     "name": "stdout",
     "output_type": "stream",
     "text": [
      "Number of gates in original circuit: 12\n",
      "Number of gates in compiled and optimised circuit: 20\n",
      "\n",
      " ----- OPTIMISED COMPILATION OVERHEAD ----- \n",
      " Additional gates: 8 \n",
      " Percentage increase: 67%\n"
     ]
    }
   ],
   "source": [
    "print('Number of gates in original circuit: {0}'.format(circ.size()))\n",
    "print('Number of gates in compiled and optimised circuit: {0}'.format(opt_circ.size()))\n",
    "print('\\n ----- OPTIMISED COMPILATION OVERHEAD ----- \\n Additional gates: {0} \\n Percentage increase: {1}%'.format(opt_circ.size()-circ.size(),round((opt_circ.size()-circ.size())/circ.size()*100)))"
   ]
  },
  {
   "cell_type": "markdown",
   "metadata": {},
   "source": [
    "Note that the overhead has been significantly reduced in comparison to the unoptimised, compiled circuit. For further optimisation of the circuit, one could search for and remove unnessary global phases within the circuit."
   ]
  }
 ],
 "metadata": {
  "kernelspec": {
   "display_name": "Python 3",
   "language": "python",
   "name": "python3"
  },
  "language_info": {
   "codemirror_mode": {
    "name": "ipython",
    "version": 3
   },
   "file_extension": ".py",
   "mimetype": "text/x-python",
   "name": "python",
   "nbconvert_exporter": "python",
   "pygments_lexer": "ipython3",
   "version": "3.8.5"
  }
 },
 "nbformat": 4,
 "nbformat_minor": 2
}
